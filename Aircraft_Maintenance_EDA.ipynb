{
 "cells": [
  {
   "cell_type": "markdown",
   "metadata": {},
   "source": [
    "# Using Data Science to generate insights on flights problems "
   ]
  },
  {
   "cell_type": "markdown",
   "metadata": {},
   "source": [
    "In this notebook We'll approach issues related to opening of faults in a Latin American Airline Company, where we have all the critical faults that have been active through 2019.\n",
    "\n",
    "Key Business Questions:\n",
    "   1. Which fleet has more faults per aircrafts?\n",
    "   2. How the aircraft age relates to the process of opening a fault?\n",
    "   3. Which ATA has more faults?\n",
    "   4. Heavy Maintenance Check impacts on how many faults are open?  \n",
    "   5. Where most faults were opened?\n"
   ]
  },
  {
   "cell_type": "markdown",
   "metadata": {},
   "source": [
    "## Import All Relevant Libraries"
   ]
  },
  {
   "cell_type": "code",
   "execution_count": 64,
   "metadata": {
    "scrolled": false
   },
   "outputs": [],
   "source": [
    "import pandas as pd\n",
    "import numpy as np\n",
    "import matplotlib.pyplot as plt\n",
    "from matplotlib.ticker import FuncFormatter\n",
    "import seaborn as sns\n",
    "from io import StringIO\n",
    "%matplotlib inline\n"
   ]
  },
  {
   "cell_type": "markdown",
   "metadata": {},
   "source": [
    "## Importing and understading the Dataset"
   ]
  },
  {
   "cell_type": "code",
   "execution_count": 65,
   "metadata": {},
   "outputs": [
    {
     "data": {
      "text/html": [
       "<div>\n",
       "<style scoped>\n",
       "    .dataframe tbody tr th:only-of-type {\n",
       "        vertical-align: middle;\n",
       "    }\n",
       "\n",
       "    .dataframe tbody tr th {\n",
       "        vertical-align: top;\n",
       "    }\n",
       "\n",
       "    .dataframe thead th {\n",
       "        text-align: right;\n",
       "    }\n",
       "</style>\n",
       "<table border=\"1\" class=\"dataframe\">\n",
       "  <thead>\n",
       "    <tr style=\"text-align: right;\">\n",
       "      <th></th>\n",
       "      <th>aircraft_tail</th>\n",
       "      <th>check_c_in_lst_yr</th>\n",
       "      <th>aircraft_years</th>\n",
       "      <th>aircraft_msn</th>\n",
       "      <th>fault_source</th>\n",
       "      <th>deferral_reference</th>\n",
       "      <th>deferral_class</th>\n",
       "      <th>logbook_type</th>\n",
       "      <th>event_type</th>\n",
       "      <th>event_status</th>\n",
       "      <th>...</th>\n",
       "      <th>moc</th>\n",
       "      <th>maintenance_airline_code</th>\n",
       "      <th>maintenance_airline_code_group</th>\n",
       "      <th>fleet</th>\n",
       "      <th>fleet_type</th>\n",
       "      <th>fleet_holding</th>\n",
       "      <th>condicion_mapi</th>\n",
       "      <th>type</th>\n",
       "      <th>type_latam</th>\n",
       "      <th>fault_count</th>\n",
       "    </tr>\n",
       "  </thead>\n",
       "  <tbody>\n",
       "    <tr>\n",
       "      <th>0</th>\n",
       "      <td>PR-MBW</td>\n",
       "      <td>no</td>\n",
       "      <td>11</td>\n",
       "      <td>3710</td>\n",
       "      <td>CABIN</td>\n",
       "      <td>35-30-01A</td>\n",
       "      <td>MEL C</td>\n",
       "      <td>CABIN</td>\n",
       "      <td>CF</td>\n",
       "      <td>CFCERT</td>\n",
       "      <td>...</td>\n",
       "      <td>NaN</td>\n",
       "      <td>A319JJ</td>\n",
       "      <td>A320JJ</td>\n",
       "      <td>A320FAM</td>\n",
       "      <td>NB</td>\n",
       "      <td>BR</td>\n",
       "      <td>LIMPIO</td>\n",
       "      <td>NO TECH</td>\n",
       "      <td>NO TECH</td>\n",
       "      <td>-</td>\n",
       "    </tr>\n",
       "    <tr>\n",
       "      <th>1</th>\n",
       "      <td>PT-MZZ</td>\n",
       "      <td>no</td>\n",
       "      <td>19</td>\n",
       "      <td>1593</td>\n",
       "      <td>PILOT</td>\n",
       "      <td>46-21-01A</td>\n",
       "      <td>MEL C</td>\n",
       "      <td>MAINT</td>\n",
       "      <td>CF</td>\n",
       "      <td>CFCERT</td>\n",
       "      <td>...</td>\n",
       "      <td>NaN</td>\n",
       "      <td>A320JJ</td>\n",
       "      <td>A320JJ</td>\n",
       "      <td>A320FAM</td>\n",
       "      <td>NB</td>\n",
       "      <td>BR</td>\n",
       "      <td>LIMPIO</td>\n",
       "      <td>TECH</td>\n",
       "      <td>TECH</td>\n",
       "      <td>FAULT</td>\n",
       "    </tr>\n",
       "    <tr>\n",
       "      <th>2</th>\n",
       "      <td>PT-MXL</td>\n",
       "      <td>no</td>\n",
       "      <td>6</td>\n",
       "      <td>5947</td>\n",
       "      <td>PILOT</td>\n",
       "      <td>21-00-04A</td>\n",
       "      <td>MEL C</td>\n",
       "      <td>MAINT</td>\n",
       "      <td>CF</td>\n",
       "      <td>CFCERT</td>\n",
       "      <td>...</td>\n",
       "      <td>NaN</td>\n",
       "      <td>A321JJ</td>\n",
       "      <td>A320JJ</td>\n",
       "      <td>A320FAM</td>\n",
       "      <td>NB</td>\n",
       "      <td>BR</td>\n",
       "      <td>LIMPIO</td>\n",
       "      <td>TECH</td>\n",
       "      <td>TECH</td>\n",
       "      <td>FAULT</td>\n",
       "    </tr>\n",
       "    <tr>\n",
       "      <th>3</th>\n",
       "      <td>PR-MBO</td>\n",
       "      <td>yes</td>\n",
       "      <td>13</td>\n",
       "      <td>3156</td>\n",
       "      <td>PILOT</td>\n",
       "      <td>33-40-01B</td>\n",
       "      <td>MEL C</td>\n",
       "      <td>NaN</td>\n",
       "      <td>CF</td>\n",
       "      <td>CFCERT</td>\n",
       "      <td>...</td>\n",
       "      <td>NaN</td>\n",
       "      <td>A320JJ</td>\n",
       "      <td>A320JJ</td>\n",
       "      <td>A320FAM</td>\n",
       "      <td>NB</td>\n",
       "      <td>BR</td>\n",
       "      <td>LIMPIO</td>\n",
       "      <td>TECH</td>\n",
       "      <td>TECH</td>\n",
       "      <td>REPEATED</td>\n",
       "    </tr>\n",
       "    <tr>\n",
       "      <th>4</th>\n",
       "      <td>PR-MBZ</td>\n",
       "      <td>no</td>\n",
       "      <td>18</td>\n",
       "      <td>1827</td>\n",
       "      <td>PILOT</td>\n",
       "      <td>36-12-02B</td>\n",
       "      <td>MEL C</td>\n",
       "      <td>MAINT</td>\n",
       "      <td>CF</td>\n",
       "      <td>CFCERT</td>\n",
       "      <td>...</td>\n",
       "      <td>NaN</td>\n",
       "      <td>A320JJ</td>\n",
       "      <td>A320JJ</td>\n",
       "      <td>A320FAM</td>\n",
       "      <td>NB</td>\n",
       "      <td>BR</td>\n",
       "      <td>LIMPIO</td>\n",
       "      <td>TECH</td>\n",
       "      <td>TECH</td>\n",
       "      <td>REPEATED</td>\n",
       "    </tr>\n",
       "  </tbody>\n",
       "</table>\n",
       "<p>5 rows × 32 columns</p>\n",
       "</div>"
      ],
      "text/plain": [
       "  aircraft_tail check_c_in_lst_yr  aircraft_years  aircraft_msn fault_source  \\\n",
       "0        PR-MBW                no              11          3710        CABIN   \n",
       "1        PT-MZZ                no              19          1593        PILOT   \n",
       "2        PT-MXL                no               6          5947        PILOT   \n",
       "3        PR-MBO               yes              13          3156        PILOT   \n",
       "4        PR-MBZ                no              18          1827        PILOT   \n",
       "\n",
       "  deferral_reference deferral_class logbook_type event_type event_status  ...  \\\n",
       "0          35-30-01A          MEL C        CABIN         CF       CFCERT  ...   \n",
       "1          46-21-01A          MEL C        MAINT         CF       CFCERT  ...   \n",
       "2          21-00-04A          MEL C        MAINT         CF       CFCERT  ...   \n",
       "3          33-40-01B          MEL C          NaN         CF       CFCERT  ...   \n",
       "4          36-12-02B          MEL C        MAINT         CF       CFCERT  ...   \n",
       "\n",
       "  moc maintenance_airline_code maintenance_airline_code_group    fleet  \\\n",
       "0 NaN                   A319JJ                         A320JJ  A320FAM   \n",
       "1 NaN                   A320JJ                         A320JJ  A320FAM   \n",
       "2 NaN                   A321JJ                         A320JJ  A320FAM   \n",
       "3 NaN                   A320JJ                         A320JJ  A320FAM   \n",
       "4 NaN                   A320JJ                         A320JJ  A320FAM   \n",
       "\n",
       "  fleet_type fleet_holding condicion_mapi     type  type_latam  fault_count  \n",
       "0         NB            BR         LIMPIO  NO TECH     NO TECH            -  \n",
       "1         NB            BR         LIMPIO     TECH        TECH        FAULT  \n",
       "2         NB            BR         LIMPIO     TECH        TECH        FAULT  \n",
       "3         NB            BR         LIMPIO     TECH        TECH     REPEATED  \n",
       "4         NB            BR         LIMPIO     TECH        TECH     REPEATED  \n",
       "\n",
       "[5 rows x 32 columns]"
      ]
     },
     "execution_count": 65,
     "metadata": {},
     "output_type": "execute_result"
    }
   ],
   "source": [
    "#read the airline dataset\n",
    "airline_df = pd.read_csv('data_test.csv',encoding='latin-1')\n",
    "\n",
    "#check the dataframe\n",
    "airline_df.head()"
   ]
  },
  {
   "cell_type": "code",
   "execution_count": 66,
   "metadata": {},
   "outputs": [
    {
     "name": "stdout",
     "output_type": "stream",
     "text": [
      "<class 'pandas.core.frame.DataFrame'>\n",
      "RangeIndex: 15937 entries, 0 to 15936\n",
      "Data columns (total 32 columns):\n",
      " #   Column                          Non-Null Count  Dtype  \n",
      "---  ------                          --------------  -----  \n",
      " 0   aircraft_tail                   15937 non-null  object \n",
      " 1   check_c_in_lst_yr               15937 non-null  object \n",
      " 2   aircraft_years                  15937 non-null  int64  \n",
      " 3   aircraft_msn                    15937 non-null  int64  \n",
      " 4   fault_source                    15937 non-null  object \n",
      " 5   deferral_reference              15933 non-null  object \n",
      " 6   deferral_class                  15937 non-null  object \n",
      " 7   logbook_type                    13426 non-null  object \n",
      " 8   event_type                      15937 non-null  object \n",
      " 9   event_status                    15937 non-null  object \n",
      " 10  fault_name                      15937 non-null  object \n",
      " 11  description                     15351 non-null  object \n",
      " 12  barcode                         15937 non-null  object \n",
      " 13  task_status                     15937 non-null  object \n",
      " 14  found_during_flight             14293 non-null  object \n",
      " 15  flight_arrival_airport          14293 non-null  object \n",
      " 16  aircraft_assembly               15937 non-null  object \n",
      " 17  ata_2d                          15937 non-null  int64  \n",
      " 18  ata_4d                          15937 non-null  int64  \n",
      " 19  ata_6d                          15937 non-null  int64  \n",
      " 20  config_slot_name                15937 non-null  object \n",
      " 21  config_slot_details             15937 non-null  object \n",
      " 22  moc                             1 non-null      float64\n",
      " 23  maintenance_airline_code        15937 non-null  object \n",
      " 24  maintenance_airline_code_group  15937 non-null  object \n",
      " 25  fleet                           15937 non-null  object \n",
      " 26  fleet_type                      15937 non-null  object \n",
      " 27  fleet_holding                   15937 non-null  object \n",
      " 28  condicion_mapi                  15937 non-null  object \n",
      " 29  type                            15937 non-null  object \n",
      " 30  type_latam                      15937 non-null  object \n",
      " 31  fault_count                     15937 non-null  object \n",
      "dtypes: float64(1), int64(5), object(26)\n",
      "memory usage: 3.9+ MB\n"
     ]
    }
   ],
   "source": [
    "#Lets check some information of the dataframe\n",
    "airline_df.info()"
   ]
  },
  {
   "cell_type": "code",
   "execution_count": 67,
   "metadata": {},
   "outputs": [
    {
     "data": {
      "text/html": [
       "<div>\n",
       "<style scoped>\n",
       "    .dataframe tbody tr th:only-of-type {\n",
       "        vertical-align: middle;\n",
       "    }\n",
       "\n",
       "    .dataframe tbody tr th {\n",
       "        vertical-align: top;\n",
       "    }\n",
       "\n",
       "    .dataframe thead th {\n",
       "        text-align: right;\n",
       "    }\n",
       "</style>\n",
       "<table border=\"1\" class=\"dataframe\">\n",
       "  <thead>\n",
       "    <tr style=\"text-align: right;\">\n",
       "      <th></th>\n",
       "      <th>aircraft_years</th>\n",
       "      <th>aircraft_msn</th>\n",
       "      <th>ata_2d</th>\n",
       "      <th>ata_4d</th>\n",
       "      <th>ata_6d</th>\n",
       "      <th>moc</th>\n",
       "    </tr>\n",
       "  </thead>\n",
       "  <tbody>\n",
       "    <tr>\n",
       "      <th>count</th>\n",
       "      <td>15937.000000</td>\n",
       "      <td>15937.000000</td>\n",
       "      <td>15937.000000</td>\n",
       "      <td>15937.000000</td>\n",
       "      <td>15937.000000</td>\n",
       "      <td>1.0</td>\n",
       "    </tr>\n",
       "    <tr>\n",
       "      <th>mean</th>\n",
       "      <td>10.923574</td>\n",
       "      <td>8413.483466</td>\n",
       "      <td>32.039593</td>\n",
       "      <td>3212.785154</td>\n",
       "      <td>321280.076614</td>\n",
       "      <td>345995.0</td>\n",
       "    </tr>\n",
       "    <tr>\n",
       "      <th>std</th>\n",
       "      <td>4.856661</td>\n",
       "      <td>12270.757021</td>\n",
       "      <td>11.968505</td>\n",
       "      <td>1215.818329</td>\n",
       "      <td>121581.291955</td>\n",
       "      <td>NaN</td>\n",
       "    </tr>\n",
       "    <tr>\n",
       "      <th>min</th>\n",
       "      <td>0.000000</td>\n",
       "      <td>24.000000</td>\n",
       "      <td>0.000000</td>\n",
       "      <td>40.000000</td>\n",
       "      <td>4000.000000</td>\n",
       "      <td>345995.0</td>\n",
       "    </tr>\n",
       "    <tr>\n",
       "      <th>25%</th>\n",
       "      <td>7.000000</td>\n",
       "      <td>2014.000000</td>\n",
       "      <td>25.000000</td>\n",
       "      <td>2500.000000</td>\n",
       "      <td>250000.000000</td>\n",
       "      <td>345995.0</td>\n",
       "    </tr>\n",
       "    <tr>\n",
       "      <th>50%</th>\n",
       "      <td>11.000000</td>\n",
       "      <td>4171.000000</td>\n",
       "      <td>29.000000</td>\n",
       "      <td>2846.000000</td>\n",
       "      <td>284600.000000</td>\n",
       "      <td>345995.0</td>\n",
       "    </tr>\n",
       "    <tr>\n",
       "      <th>75%</th>\n",
       "      <td>13.000000</td>\n",
       "      <td>6409.000000</td>\n",
       "      <td>35.000000</td>\n",
       "      <td>3500.000000</td>\n",
       "      <td>350000.000000</td>\n",
       "      <td>345995.0</td>\n",
       "    </tr>\n",
       "    <tr>\n",
       "      <th>max</th>\n",
       "      <td>20.000000</td>\n",
       "      <td>42214.000000</td>\n",
       "      <td>80.000000</td>\n",
       "      <td>8013.000000</td>\n",
       "      <td>801300.000000</td>\n",
       "      <td>345995.0</td>\n",
       "    </tr>\n",
       "  </tbody>\n",
       "</table>\n",
       "</div>"
      ],
      "text/plain": [
       "       aircraft_years  aircraft_msn        ata_2d        ata_4d  \\\n",
       "count    15937.000000  15937.000000  15937.000000  15937.000000   \n",
       "mean        10.923574   8413.483466     32.039593   3212.785154   \n",
       "std          4.856661  12270.757021     11.968505   1215.818329   \n",
       "min          0.000000     24.000000      0.000000     40.000000   \n",
       "25%          7.000000   2014.000000     25.000000   2500.000000   \n",
       "50%         11.000000   4171.000000     29.000000   2846.000000   \n",
       "75%         13.000000   6409.000000     35.000000   3500.000000   \n",
       "max         20.000000  42214.000000     80.000000   8013.000000   \n",
       "\n",
       "              ata_6d       moc  \n",
       "count   15937.000000       1.0  \n",
       "mean   321280.076614  345995.0  \n",
       "std    121581.291955       NaN  \n",
       "min      4000.000000  345995.0  \n",
       "25%    250000.000000  345995.0  \n",
       "50%    284600.000000  345995.0  \n",
       "75%    350000.000000  345995.0  \n",
       "max    801300.000000  345995.0  "
      ]
     },
     "execution_count": 67,
     "metadata": {},
     "output_type": "execute_result"
    }
   ],
   "source": [
    "airline_df.describe()"
   ]
  },
  {
   "cell_type": "markdown",
   "metadata": {},
   "source": [
    "## Data Preparation"
   ]
  },
  {
   "cell_type": "markdown",
   "metadata": {},
   "source": [
    "### Data Cleaning: The columns below doesn't contribute any useful information to the analysis"
   ]
  },
  {
   "cell_type": "code",
   "execution_count": 68,
   "metadata": {
    "scrolled": true
   },
   "outputs": [
    {
     "data": {
      "text/html": [
       "<div>\n",
       "<style scoped>\n",
       "    .dataframe tbody tr th:only-of-type {\n",
       "        vertical-align: middle;\n",
       "    }\n",
       "\n",
       "    .dataframe tbody tr th {\n",
       "        vertical-align: top;\n",
       "    }\n",
       "\n",
       "    .dataframe thead th {\n",
       "        text-align: right;\n",
       "    }\n",
       "</style>\n",
       "<table border=\"1\" class=\"dataframe\">\n",
       "  <thead>\n",
       "    <tr style=\"text-align: right;\">\n",
       "      <th></th>\n",
       "      <th>aircraft_tail</th>\n",
       "      <th>check_c_in_lst_yr</th>\n",
       "      <th>aircraft_years</th>\n",
       "      <th>fault_source</th>\n",
       "      <th>deferral_class</th>\n",
       "      <th>logbook_type</th>\n",
       "      <th>event_status</th>\n",
       "      <th>fault_name</th>\n",
       "      <th>description</th>\n",
       "      <th>barcode</th>\n",
       "      <th>task_status</th>\n",
       "      <th>flight_arrival_airport</th>\n",
       "      <th>ata_2d</th>\n",
       "      <th>ata_4d</th>\n",
       "      <th>ata_6d</th>\n",
       "      <th>config_slot_name</th>\n",
       "      <th>fleet</th>\n",
       "      <th>condicion_mapi</th>\n",
       "      <th>fault_count</th>\n",
       "    </tr>\n",
       "  </thead>\n",
       "  <tbody>\n",
       "    <tr>\n",
       "      <th>0</th>\n",
       "      <td>PR-MBW</td>\n",
       "      <td>no</td>\n",
       "      <td>11</td>\n",
       "      <td>CABIN</td>\n",
       "      <td>MEL C</td>\n",
       "      <td>CABIN</td>\n",
       "      <td>CFCERT</td>\n",
       "      <td>501173-B-047 REF ITEM RTC BA 652698 - UTILIZAD...</td>\n",
       "      <td>501173-B-047 REF ITEM RTC BA 652698 - UTILIZAD...</td>\n",
       "      <td>T00F8Y6K</td>\n",
       "      <td>COMPLETE</td>\n",
       "      <td>CNF</td>\n",
       "      <td>35</td>\n",
       "      <td>3530</td>\n",
       "      <td>353000</td>\n",
       "      <td>PORTABLE OXYGEN</td>\n",
       "      <td>A320FAM</td>\n",
       "      <td>LIMPIO</td>\n",
       "      <td>-</td>\n",
       "    </tr>\n",
       "    <tr>\n",
       "      <th>1</th>\n",
       "      <td>PT-MZZ</td>\n",
       "      <td>no</td>\n",
       "      <td>19</td>\n",
       "      <td>PILOT</td>\n",
       "      <td>MEL C</td>\n",
       "      <td>MAINT</td>\n",
       "      <td>CFCERT</td>\n",
       "      <td>500928-A-037 HORARIO PUSHBACK ACARS INCORRETO ...</td>\n",
       "      <td>HORARIO PUSHBACK ACARS INCORRETO + 5MINUTOS</td>\n",
       "      <td>T00F8Y94</td>\n",
       "      <td>COMPLETE</td>\n",
       "      <td>FLN</td>\n",
       "      <td>46</td>\n",
       "      <td>4621</td>\n",
       "      <td>462100</td>\n",
       "      <td>AIR TRAFFIC INFORMATION MANAGMENT SYSTEM (A.T....</td>\n",
       "      <td>A320FAM</td>\n",
       "      <td>LIMPIO</td>\n",
       "      <td>FAULT</td>\n",
       "    </tr>\n",
       "    <tr>\n",
       "      <th>2</th>\n",
       "      <td>PT-MXL</td>\n",
       "      <td>no</td>\n",
       "      <td>6</td>\n",
       "      <td>PILOT</td>\n",
       "      <td>MEL C</td>\n",
       "      <td>MAINT</td>\n",
       "      <td>CFCERT</td>\n",
       "      <td>500995-A-029 MAINTENANCE TEMP  CTL 1 AND 2</td>\n",
       "      <td>MAINTENANCE TEMP  CTL 1 AND 2  \\r\\nPERFORMED B...</td>\n",
       "      <td>T00F93J0</td>\n",
       "      <td>COMPLETE</td>\n",
       "      <td>BSB</td>\n",
       "      <td>21</td>\n",
       "      <td>2161</td>\n",
       "      <td>216100</td>\n",
       "      <td>PACK TEMPERATURE CONTROL</td>\n",
       "      <td>A320FAM</td>\n",
       "      <td>LIMPIO</td>\n",
       "      <td>FAULT</td>\n",
       "    </tr>\n",
       "    <tr>\n",
       "      <th>3</th>\n",
       "      <td>PR-MBO</td>\n",
       "      <td>yes</td>\n",
       "      <td>13</td>\n",
       "      <td>PILOT</td>\n",
       "      <td>MEL C</td>\n",
       "      <td>NaN</td>\n",
       "      <td>CFCERT</td>\n",
       "      <td>MLB 501345-A-004 NAV  TAIL LIGHT 1 INOP</td>\n",
       "      <td>NAV  TAIL LIGHT 1 INOP</td>\n",
       "      <td>T00F9E5G</td>\n",
       "      <td>COMPLETE</td>\n",
       "      <td>GIG</td>\n",
       "      <td>33</td>\n",
       "      <td>3341</td>\n",
       "      <td>334100</td>\n",
       "      <td>NAVIGATION LIGHTS</td>\n",
       "      <td>A320FAM</td>\n",
       "      <td>LIMPIO</td>\n",
       "      <td>REPEATED</td>\n",
       "    </tr>\n",
       "    <tr>\n",
       "      <th>4</th>\n",
       "      <td>PR-MBZ</td>\n",
       "      <td>no</td>\n",
       "      <td>18</td>\n",
       "      <td>PILOT</td>\n",
       "      <td>MEL C</td>\n",
       "      <td>MAINT</td>\n",
       "      <td>CFCERT</td>\n",
       "      <td>AIR APU BLEED FAULT STUKED IN OPEN POSITION ON...</td>\n",
       "      <td>AIR APU BLEED FAULT STUKED IN OPEN POSITION ON...</td>\n",
       "      <td>T00F9KH4</td>\n",
       "      <td>COMPLETE</td>\n",
       "      <td>GRU</td>\n",
       "      <td>49</td>\n",
       "      <td>4951</td>\n",
       "      <td>495100</td>\n",
       "      <td>BLEED AND SURGE AIR</td>\n",
       "      <td>A320FAM</td>\n",
       "      <td>LIMPIO</td>\n",
       "      <td>REPEATED</td>\n",
       "    </tr>\n",
       "  </tbody>\n",
       "</table>\n",
       "</div>"
      ],
      "text/plain": [
       "  aircraft_tail check_c_in_lst_yr  aircraft_years fault_source deferral_class  \\\n",
       "0        PR-MBW                no              11        CABIN          MEL C   \n",
       "1        PT-MZZ                no              19        PILOT          MEL C   \n",
       "2        PT-MXL                no               6        PILOT          MEL C   \n",
       "3        PR-MBO               yes              13        PILOT          MEL C   \n",
       "4        PR-MBZ                no              18        PILOT          MEL C   \n",
       "\n",
       "  logbook_type event_status  \\\n",
       "0        CABIN       CFCERT   \n",
       "1        MAINT       CFCERT   \n",
       "2        MAINT       CFCERT   \n",
       "3          NaN       CFCERT   \n",
       "4        MAINT       CFCERT   \n",
       "\n",
       "                                          fault_name  \\\n",
       "0  501173-B-047 REF ITEM RTC BA 652698 - UTILIZAD...   \n",
       "1  500928-A-037 HORARIO PUSHBACK ACARS INCORRETO ...   \n",
       "2         500995-A-029 MAINTENANCE TEMP  CTL 1 AND 2   \n",
       "3            MLB 501345-A-004 NAV  TAIL LIGHT 1 INOP   \n",
       "4  AIR APU BLEED FAULT STUKED IN OPEN POSITION ON...   \n",
       "\n",
       "                                         description   barcode task_status  \\\n",
       "0  501173-B-047 REF ITEM RTC BA 652698 - UTILIZAD...  T00F8Y6K    COMPLETE   \n",
       "1        HORARIO PUSHBACK ACARS INCORRETO + 5MINUTOS  T00F8Y94    COMPLETE   \n",
       "2  MAINTENANCE TEMP  CTL 1 AND 2  \\r\\nPERFORMED B...  T00F93J0    COMPLETE   \n",
       "3                             NAV  TAIL LIGHT 1 INOP  T00F9E5G    COMPLETE   \n",
       "4  AIR APU BLEED FAULT STUKED IN OPEN POSITION ON...  T00F9KH4    COMPLETE   \n",
       "\n",
       "  flight_arrival_airport  ata_2d  ata_4d  ata_6d  \\\n",
       "0                    CNF      35    3530  353000   \n",
       "1                    FLN      46    4621  462100   \n",
       "2                    BSB      21    2161  216100   \n",
       "3                    GIG      33    3341  334100   \n",
       "4                    GRU      49    4951  495100   \n",
       "\n",
       "                                    config_slot_name    fleet condicion_mapi  \\\n",
       "0                                    PORTABLE OXYGEN  A320FAM         LIMPIO   \n",
       "1  AIR TRAFFIC INFORMATION MANAGMENT SYSTEM (A.T....  A320FAM         LIMPIO   \n",
       "2                           PACK TEMPERATURE CONTROL  A320FAM         LIMPIO   \n",
       "3                                  NAVIGATION LIGHTS  A320FAM         LIMPIO   \n",
       "4                                BLEED AND SURGE AIR  A320FAM         LIMPIO   \n",
       "\n",
       "  fault_count  \n",
       "0           -  \n",
       "1       FAULT  \n",
       "2       FAULT  \n",
       "3    REPEATED  \n",
       "4    REPEATED  "
      ]
     },
     "execution_count": 68,
     "metadata": {},
     "output_type": "execute_result"
    }
   ],
   "source": [
    "#drop the irrelevant columns\n",
    "\n",
    "airline_df=airline_df.drop(['aircraft_msn','deferral_reference','event_type','found_during_flight','aircraft_assembly','config_slot_details','maintenance_airline_code','maintenance_airline_code_group','fleet_type','fleet_holding','type','type_latam','moc'],axis=1)\n",
    "airline_df.head()"
   ]
  },
  {
   "cell_type": "markdown",
   "metadata": {},
   "source": [
    "### Check and impute missing values"
   ]
  },
  {
   "cell_type": "markdown",
   "metadata": {},
   "source": [
    "Let's define a function to check the missing values which could help in better understanding the problem."
   ]
  },
  {
   "cell_type": "code",
   "execution_count": 69,
   "metadata": {},
   "outputs": [],
   "source": [
    "def missing_values_table(df):\n",
    "    '''\n",
    "    Input - Dataframe that has all relevant variables for consideration.\n",
    "    \n",
    "    Output - Displays the total number of variables/columns in the dataset. In addition, it also \n",
    "    generates count of missing values for each column.\n",
    "    \n",
    "    '''    \n",
    "    mis_val = df.isnull().sum()\n",
    "    mis_val_percent = 100 * df.isnull().sum() / len(df)\n",
    "    mis_val_table = pd.concat([mis_val, mis_val_percent], axis=1)\n",
    "    mis_val_table_ren_columns = mis_val_table.rename(\n",
    "    columns = {0 : 'Missing Values', 1 : '% of Total Values'})\n",
    "    mis_val_table_ren_columns = mis_val_table_ren_columns[\n",
    "    mis_val_table_ren_columns.iloc[:,1] != 0].sort_values(\n",
    "    '% of Total Values', ascending=False).round(1)\n",
    "    print (\"Your selected dataframe has \" + str(df.shape[1]) + \" columns.\\n\"      \n",
    "    \"There are \" + str(mis_val_table_ren_columns.shape[0]) +\n",
    "    \" columns that have missing values.\")\n",
    "    return mis_val_table_ren_columns"
   ]
  },
  {
   "cell_type": "code",
   "execution_count": 70,
   "metadata": {},
   "outputs": [
    {
     "name": "stdout",
     "output_type": "stream",
     "text": [
      "Your selected dataframe has 19 columns.\n",
      "There are 3 columns that have missing values.\n"
     ]
    },
    {
     "data": {
      "text/html": [
       "<div>\n",
       "<style scoped>\n",
       "    .dataframe tbody tr th:only-of-type {\n",
       "        vertical-align: middle;\n",
       "    }\n",
       "\n",
       "    .dataframe tbody tr th {\n",
       "        vertical-align: top;\n",
       "    }\n",
       "\n",
       "    .dataframe thead th {\n",
       "        text-align: right;\n",
       "    }\n",
       "</style>\n",
       "<table border=\"1\" class=\"dataframe\">\n",
       "  <thead>\n",
       "    <tr style=\"text-align: right;\">\n",
       "      <th></th>\n",
       "      <th>Missing Values</th>\n",
       "      <th>% of Total Values</th>\n",
       "    </tr>\n",
       "  </thead>\n",
       "  <tbody>\n",
       "    <tr>\n",
       "      <th>logbook_type</th>\n",
       "      <td>2511</td>\n",
       "      <td>15.8</td>\n",
       "    </tr>\n",
       "    <tr>\n",
       "      <th>flight_arrival_airport</th>\n",
       "      <td>1644</td>\n",
       "      <td>10.3</td>\n",
       "    </tr>\n",
       "    <tr>\n",
       "      <th>description</th>\n",
       "      <td>586</td>\n",
       "      <td>3.7</td>\n",
       "    </tr>\n",
       "  </tbody>\n",
       "</table>\n",
       "</div>"
      ],
      "text/plain": [
       "                        Missing Values  % of Total Values\n",
       "logbook_type                      2511               15.8\n",
       "flight_arrival_airport            1644               10.3\n",
       "description                        586                3.7"
      ]
     },
     "execution_count": 70,
     "metadata": {},
     "output_type": "execute_result"
    }
   ],
   "source": [
    "#use the function to check the missing values\n",
    "\n",
    "df_imputed = missing_values_table(airline_df)\n",
    "df_imputed"
   ]
  },
  {
   "cell_type": "code",
   "execution_count": 71,
   "metadata": {},
   "outputs": [
    {
     "data": {
      "text/plain": [
       "aircraft_tail               161\n",
       "check_c_in_lst_yr             2\n",
       "aircraft_years               18\n",
       "fault_source                  6\n",
       "deferral_class                3\n",
       "logbook_type                  2\n",
       "event_status                  4\n",
       "fault_name                15274\n",
       "description               14654\n",
       "barcode                   15937\n",
       "task_status                   4\n",
       "flight_arrival_airport       78\n",
       "ata_2d                       40\n",
       "ata_4d                      492\n",
       "ata_6d                      798\n",
       "config_slot_name           1041\n",
       "fleet                         4\n",
       "condicion_mapi                3\n",
       "fault_count                   3\n",
       "dtype: int64"
      ]
     },
     "execution_count": 71,
     "metadata": {},
     "output_type": "execute_result"
    }
   ],
   "source": [
    "#lets check how many unique values are in each column\n",
    "\n",
    "airline_df.nunique()"
   ]
  },
  {
   "cell_type": "markdown",
   "metadata": {},
   "source": [
    "Here there's an important information about the missing data in the column \"flight_arrival_airport\". If it's null, it means that the fault was opened during a period where the aircraft wasn't flying, therefore in those cases We'll drop any row with missing value because they don't help with our analysis.\n",
    "\n",
    "The column \"description\" has some NaN values, but analyzing the table we see that the column \"fault_name\" has the same information and no null data, so we are going to drop it as well."
   ]
  },
  {
   "cell_type": "code",
   "execution_count": 72,
   "metadata": {},
   "outputs": [],
   "source": [
    "#drop all the missing values in the column in flight arrival airport column and description.\n",
    "\n",
    "airline_df=airline_df[airline_df['flight_arrival_airport'].notna()]\n",
    "airline_df=airline_df[airline_df['description'].notna()]"
   ]
  },
  {
   "cell_type": "markdown",
   "metadata": {},
   "source": [
    "The column with most missing values is\"logbook_type\", we are going to fill this column data based on the rule below:"
   ]
  },
  {
   "cell_type": "code",
   "execution_count": 73,
   "metadata": {},
   "outputs": [
    {
     "name": "stderr",
     "output_type": "stream",
     "text": [
      "<>:5: SyntaxWarning: \"is\" with a literal. Did you mean \"==\"?\n",
      "<>:5: SyntaxWarning: \"is\" with a literal. Did you mean \"==\"?\n",
      "<ipython-input-73-add91c53fe5d>:5: SyntaxWarning: \"is\" with a literal. Did you mean \"==\"?\n",
      "  airline_df['logbook_type'].fillna(airline_df[airline_df['logbook_type'].isnull()].apply(lambda x: 'CABIN' if (airline_df[airline_df['logbook_type'].isnull()]['fault_source'] is 'CABIN') else 'MAINT', axis=1), inplace=True)\n"
     ]
    }
   ],
   "source": [
    "# only the cabin maintenance will be recorded by crew in the cabin log book  except in rare criteria and most other recordings are from \n",
    "#pilot or the maintenance crew in this way and thats the way column in recorded. Therefore we will fill the places with cabin where the fault source are from cabin\n",
    "# and the rest by maint crew.\n",
    "\n",
    "airline_df['logbook_type'].fillna(airline_df[airline_df['logbook_type'].isnull()].apply(lambda x: 'CABIN' if (airline_df[airline_df['logbook_type'].isnull()]['fault_source'] is 'CABIN') else 'MAINT', axis=1), inplace=True)\n"
   ]
  },
  {
   "cell_type": "code",
   "execution_count": 75,
   "metadata": {},
   "outputs": [
    {
     "name": "stdout",
     "output_type": "stream",
     "text": [
      "<class 'pandas.core.frame.DataFrame'>\n",
      "Int64Index: 13873 entries, 0 to 15936\n",
      "Data columns (total 19 columns):\n",
      " #   Column                  Non-Null Count  Dtype \n",
      "---  ------                  --------------  ----- \n",
      " 0   aircraft_tail           13873 non-null  object\n",
      " 1   check_c_in_lst_yr       13873 non-null  object\n",
      " 2   aircraft_years          13873 non-null  int64 \n",
      " 3   fault_source            13873 non-null  object\n",
      " 4   deferral_class          13873 non-null  object\n",
      " 5   logbook_type            13873 non-null  object\n",
      " 6   event_status            13873 non-null  object\n",
      " 7   fault_name              13873 non-null  object\n",
      " 8   description             13873 non-null  object\n",
      " 9   barcode                 13873 non-null  object\n",
      " 10  task_status             13873 non-null  object\n",
      " 11  flight_arrival_airport  13873 non-null  object\n",
      " 12  ata_2d                  13873 non-null  int64 \n",
      " 13  ata_4d                  13873 non-null  int64 \n",
      " 14  ata_6d                  13873 non-null  int64 \n",
      " 15  config_slot_name        13873 non-null  object\n",
      " 16  fleet                   13873 non-null  object\n",
      " 17  condicion_mapi          13873 non-null  object\n",
      " 18  fault_count             13873 non-null  object\n",
      "dtypes: int64(4), object(15)\n",
      "memory usage: 2.1+ MB\n"
     ]
    }
   ],
   "source": [
    "#after imputing the values, lets check for missing values \n",
    "airline_df.info()"
   ]
  },
  {
   "cell_type": "markdown",
   "metadata": {},
   "source": [
    "I wasn't expecting that many values being null in that column, this information does not impact our analysis all that much right now, but it shows a flaw in the process of opening faults, since **15%** of the faults weren't registered correctly. It's not much help to answer our questions but I really think that it's nice insight that can change the quality of the process.\n"
   ]
  },
  {
   "cell_type": "markdown",
   "metadata": {},
   "source": [
    "#  Analysis and Visualization"
   ]
  },
  {
   "cell_type": "markdown",
   "metadata": {},
   "source": [
    "## Question 1: What is the fleet with most open faults per aircrafts?"
   ]
  },
  {
   "cell_type": "markdown",
   "metadata": {},
   "source": [
    "How does the four main fleets behave in terms of faults per amount of airplanes? Do they have the same rate of faults or does one fleet stands out of the others? To answer theses questions, I going to use some graphs visualization."
   ]
  },
  {
   "cell_type": "code",
   "execution_count": 77,
   "metadata": {},
   "outputs": [
    {
     "data": {
      "text/plain": [
       "fleet\n",
       "A320FAM    129\n",
       "A350         8\n",
       "B767        13\n",
       "B777        10\n",
       "Name: aircraft_tail, dtype: int64"
      ]
     },
     "execution_count": 77,
     "metadata": {},
     "output_type": "execute_result"
    },
    {
     "data": {
      "image/png": "[encoded data removed]",
      "text/plain": [
       "<Figure size 432x288 with 1 Axes>"
      ]
     },
     "metadata": {
      "needs_background": "light"
     },
     "output_type": "display_data"
    }
   ],
   "source": [
    "#count and visualize the total of aircrafts per fleet\n",
    "acft_per_fleet = airline_df.groupby(['fleet'])['aircraft_tail'].nunique()\n",
    "acft_per_fleet[:4].plot(kind='bar')\n",
    "plt.title('Aircrafts per Fleet')\n",
    "acft_per_fleet"
   ]
  },
  {
   "cell_type": "markdown",
   "metadata": {},
   "source": [
    "The A320FAM fleet is by far the biggest fleet in the company."
   ]
  },
  {
   "cell_type": "code",
   "execution_count": 78,
   "metadata": {},
   "outputs": [
    {
     "data": {
      "text/plain": [
       "fleet\n",
       "A320FAM    11717\n",
       "A350         564\n",
       "B767        1061\n",
       "B777         531\n",
       "Name: barcode, dtype: int64"
      ]
     },
     "execution_count": 78,
     "metadata": {},
     "output_type": "execute_result"
    },
    {
     "data": {
      "image/png": "[encoded data removed]",
      "text/plain": [
       "<Figure size 432x288 with 1 Axes>"
      ]
     },
     "metadata": {
      "needs_background": "light"
     },
     "output_type": "display_data"
    }
   ],
   "source": [
    "#count and visualize the total of faults per fleet\n",
    "fault_per_fleet = airline_df.groupby(['fleet'])['barcode'].nunique()\n",
    "fault_per_fleet[:4].plot(kind='bar')\n",
    "plt.title('Faults per Fleet')\n",
    "fault_per_fleet"
   ]
  },
  {
   "cell_type": "markdown",
   "metadata": {},
   "source": [
    "And as expected the A320FAM has more faults then the other fleets due to it's size, but we need to know how many faults per aircrafts each fleet presents."
   ]
  },
  {
   "cell_type": "code",
   "execution_count": 79,
   "metadata": {},
   "outputs": [
    {
     "data": {
      "text/plain": [
       "fleet\n",
       "A320FAM    90.829457\n",
       "A350       70.500000\n",
       "B767       81.615385\n",
       "B777       53.100000\n",
       "dtype: float64"
      ]
     },
     "execution_count": 79,
     "metadata": {},
     "output_type": "execute_result"
    },
    {
     "data": {
      "image/png": "[encoded data removed]",
      "text/plain": [
       "<Figure size 432x288 with 1 Axes>"
      ]
     },
     "metadata": {
      "needs_background": "light"
     },
     "output_type": "display_data"
    }
   ],
   "source": [
    "#count and visualize the rate of faults per fleet\n",
    "rate_fleet = fault_per_fleet/acft_per_fleet\n",
    "rate_fleet[:4].plot(kind='bar')\n",
    "plt.title('Fault Rate per Fleet')\n",
    "rate_fleet\n"
   ]
  },
  {
   "cell_type": "markdown",
   "metadata": {},
   "source": [
    "Now we have a number that it's fair to the difference between fleets sizes. The fleet with the biggest rate it's the A320FAM and the fleet with the lowest rate it's the B777."
   ]
  },
  {
   "cell_type": "markdown",
   "metadata": {},
   "source": [
    "# Question 2: How does the aircarft age relates to the faults?"
   ]
  },
  {
   "cell_type": "markdown",
   "metadata": {},
   "source": [
    "Does older aircrafts open more faults? To answer this question, I used mainly two columns:\n",
    "\n",
    "     - Barcode, to count the amount of faults\n",
    "     - aircraft_years, the amount of years that a certain aircraft is operating."
   ]
  },
  {
   "cell_type": "code",
   "execution_count": 80,
   "metadata": {},
   "outputs": [
    {
     "data": {
      "text/html": [
       "<div>\n",
       "<style scoped>\n",
       "    .dataframe tbody tr th:only-of-type {\n",
       "        vertical-align: middle;\n",
       "    }\n",
       "\n",
       "    .dataframe tbody tr th {\n",
       "        vertical-align: top;\n",
       "    }\n",
       "\n",
       "    .dataframe thead th {\n",
       "        text-align: right;\n",
       "    }\n",
       "</style>\n",
       "<table border=\"1\" class=\"dataframe\">\n",
       "  <thead>\n",
       "    <tr style=\"text-align: right;\">\n",
       "      <th></th>\n",
       "      <th>aircraft_tail</th>\n",
       "      <th>faults</th>\n",
       "      <th>acft_age</th>\n",
       "    </tr>\n",
       "  </thead>\n",
       "  <tbody>\n",
       "    <tr>\n",
       "      <th>1</th>\n",
       "      <td>PR-MAK</td>\n",
       "      <td>146</td>\n",
       "      <td>18</td>\n",
       "    </tr>\n",
       "    <tr>\n",
       "      <th>11</th>\n",
       "      <td>PR-MBG</td>\n",
       "      <td>145</td>\n",
       "      <td>19</td>\n",
       "    </tr>\n",
       "    <tr>\n",
       "      <th>34</th>\n",
       "      <td>PR-MHW</td>\n",
       "      <td>142</td>\n",
       "      <td>11</td>\n",
       "    </tr>\n",
       "    <tr>\n",
       "      <th>148</th>\n",
       "      <td>PT-XPD</td>\n",
       "      <td>141</td>\n",
       "      <td>5</td>\n",
       "    </tr>\n",
       "    <tr>\n",
       "      <th>113</th>\n",
       "      <td>PT-MXC</td>\n",
       "      <td>141</td>\n",
       "      <td>12</td>\n",
       "    </tr>\n",
       "    <tr>\n",
       "      <th>...</th>\n",
       "      <td>...</td>\n",
       "      <td>...</td>\n",
       "      <td>...</td>\n",
       "    </tr>\n",
       "    <tr>\n",
       "      <th>78</th>\n",
       "      <td>PR-XBE</td>\n",
       "      <td>16</td>\n",
       "      <td>0</td>\n",
       "    </tr>\n",
       "    <tr>\n",
       "      <th>79</th>\n",
       "      <td>PR-XBF</td>\n",
       "      <td>4</td>\n",
       "      <td>0</td>\n",
       "    </tr>\n",
       "    <tr>\n",
       "      <th>72</th>\n",
       "      <td>PR-TYU</td>\n",
       "      <td>3</td>\n",
       "      <td>0</td>\n",
       "    </tr>\n",
       "    <tr>\n",
       "      <th>73</th>\n",
       "      <td>PR-TYV</td>\n",
       "      <td>2</td>\n",
       "      <td>0</td>\n",
       "    </tr>\n",
       "    <tr>\n",
       "      <th>87</th>\n",
       "      <td>PR-XTM</td>\n",
       "      <td>1</td>\n",
       "      <td>0</td>\n",
       "    </tr>\n",
       "  </tbody>\n",
       "</table>\n",
       "<p>160 rows × 3 columns</p>\n",
       "</div>"
      ],
      "text/plain": [
       "    aircraft_tail  faults  acft_age\n",
       "1          PR-MAK     146        18\n",
       "11         PR-MBG     145        19\n",
       "34         PR-MHW     142        11\n",
       "148        PT-XPD     141         5\n",
       "113        PT-MXC     141        12\n",
       "..            ...     ...       ...\n",
       "78         PR-XBE      16         0\n",
       "79         PR-XBF       4         0\n",
       "72         PR-TYU       3         0\n",
       "73         PR-TYV       2         0\n",
       "87         PR-XTM       1         0\n",
       "\n",
       "[160 rows x 3 columns]"
      ]
     },
     "execution_count": 80,
     "metadata": {},
     "output_type": "execute_result"
    }
   ],
   "source": [
    "dff = airline_df.groupby('aircraft_tail') \\\n",
    "       .agg({'barcode':'count', 'aircraft_years':'mean'}) \\\n",
    "       .rename(columns={'barcode':'faults','aircraft_years':'acft_age'}) \\\n",
    "       .reset_index()\n",
    "dfs = dff.sort_values('faults', ascending = False)\n",
    "dfs"
   ]
  },
  {
   "cell_type": "code",
   "execution_count": 81,
   "metadata": {},
   "outputs": [
    {
     "data": {
      "text/plain": [
       "Text(0.5, 1.0, 'Faults x Age')"
      ]
     },
     "execution_count": 81,
     "metadata": {},
     "output_type": "execute_result"
    },
    {
     "data": {
      "image/png": "[encoded data removed]",
      "text/plain": [
       "<Figure size 432x288 with 1 Axes>"
      ]
     },
     "metadata": {
      "needs_background": "light"
     },
     "output_type": "display_data"
    }
   ],
   "source": [
    "dfs[:15].plot(kind='barh', x='aircraft_tail')\n",
    "plt.gca().invert_yaxis()\n",
    "plt.title('Faults x Age')\n",
    "\n"
   ]
  },
  {
   "cell_type": "code",
   "execution_count": 82,
   "metadata": {},
   "outputs": [
    {
     "data": {
      "text/plain": [
       "fleet\n",
       "A320FAM    11.444141\n",
       "A350        4.416667\n",
       "B767        9.702168\n",
       "B777        8.794727\n",
       "Name: aircraft_years, dtype: float64"
      ]
     },
     "execution_count": 82,
     "metadata": {},
     "output_type": "execute_result"
    }
   ],
   "source": [
    "age_mean = airline_df.groupby(['fleet'])['aircraft_years'].mean()\n",
    "\n",
    "age_mean\n"
   ]
  },
  {
   "cell_type": "code",
   "execution_count": 83,
   "metadata": {},
   "outputs": [
    {
     "data": {
      "text/html": [
       "<div>\n",
       "<style scoped>\n",
       "    .dataframe tbody tr th:only-of-type {\n",
       "        vertical-align: middle;\n",
       "    }\n",
       "\n",
       "    .dataframe tbody tr th {\n",
       "        vertical-align: top;\n",
       "    }\n",
       "\n",
       "    .dataframe thead th {\n",
       "        text-align: right;\n",
       "    }\n",
       "</style>\n",
       "<table border=\"1\" class=\"dataframe\">\n",
       "  <thead>\n",
       "    <tr style=\"text-align: right;\">\n",
       "      <th></th>\n",
       "      <th>faults</th>\n",
       "      <th>acft_age</th>\n",
       "    </tr>\n",
       "  </thead>\n",
       "  <tbody>\n",
       "    <tr>\n",
       "      <th>count</th>\n",
       "      <td>160.000000</td>\n",
       "      <td>160.000000</td>\n",
       "    </tr>\n",
       "    <tr>\n",
       "      <th>mean</th>\n",
       "      <td>86.706250</td>\n",
       "      <td>9.587500</td>\n",
       "    </tr>\n",
       "    <tr>\n",
       "      <th>std</th>\n",
       "      <td>32.271957</td>\n",
       "      <td>5.263363</td>\n",
       "    </tr>\n",
       "    <tr>\n",
       "      <th>min</th>\n",
       "      <td>1.000000</td>\n",
       "      <td>0.000000</td>\n",
       "    </tr>\n",
       "    <tr>\n",
       "      <th>25%</th>\n",
       "      <td>69.000000</td>\n",
       "      <td>7.000000</td>\n",
       "    </tr>\n",
       "    <tr>\n",
       "      <th>50%</th>\n",
       "      <td>88.000000</td>\n",
       "      <td>9.000000</td>\n",
       "    </tr>\n",
       "    <tr>\n",
       "      <th>75%</th>\n",
       "      <td>112.250000</td>\n",
       "      <td>12.250000</td>\n",
       "    </tr>\n",
       "    <tr>\n",
       "      <th>max</th>\n",
       "      <td>146.000000</td>\n",
       "      <td>20.000000</td>\n",
       "    </tr>\n",
       "  </tbody>\n",
       "</table>\n",
       "</div>"
      ],
      "text/plain": [
       "           faults    acft_age\n",
       "count  160.000000  160.000000\n",
       "mean    86.706250    9.587500\n",
       "std     32.271957    5.263363\n",
       "min      1.000000    0.000000\n",
       "25%     69.000000    7.000000\n",
       "50%     88.000000    9.000000\n",
       "75%    112.250000   12.250000\n",
       "max    146.000000   20.000000"
      ]
     },
     "execution_count": 83,
     "metadata": {},
     "output_type": "execute_result"
    }
   ],
   "source": [
    "dfs.describe()"
   ]
  },
  {
   "cell_type": "markdown",
   "metadata": {},
   "source": [
    "All the aircrafts with less than 1 year ranked in the bottom of the list, therefore newer aircrafts didn't presented as many faults as older aircrafts. There are exceptions, for example PT-XPD that has only 5 years but ranked fifth. But in general as older the aircraft gets the more faults it will have."
   ]
  },
  {
   "cell_type": "markdown",
   "metadata": {},
   "source": [
    "# Question 3: Which ATA has more faults?"
   ]
  },
  {
   "cell_type": "markdown",
   "metadata": {},
   "source": [
    "ATA is a numbering system which is a common referencing standard for commercial aircraft documentation. This commonality permits greater ease of learning and understanding for pilots, aircraft maintenance technicians, and engineers alike. Analyzing the ATA will lead to know what system had more failures."
   ]
  },
  {
   "cell_type": "code",
   "execution_count": 84,
   "metadata": {},
   "outputs": [
    {
     "data": {
      "text/plain": [
       "array([[<AxesSubplot:title={'center':'aircraft_years'}>,\n",
       "        <AxesSubplot:title={'center':'ata_2d'}>],\n",
       "       [<AxesSubplot:title={'center':'ata_4d'}>,\n",
       "        <AxesSubplot:title={'center':'ata_6d'}>]], dtype=object)"
      ]
     },
     "execution_count": 84,
     "metadata": {},
     "output_type": "execute_result"
    },
    {
     "data": {
      "image/png": "[encoded data removed]",
      "text/plain": [
       "<Figure size 432x288 with 4 Axes>"
      ]
     },
     "metadata": {
      "needs_background": "light"
     },
     "output_type": "display_data"
    }
   ],
   "source": [
    "airline_df.hist()"
   ]
  },
  {
   "cell_type": "code",
   "execution_count": 85,
   "metadata": {},
   "outputs": [
    {
     "data": {
      "image/png": "[encoded data removed]",
      "text/plain": [
       "<Figure size 432x288 with 2 Axes>"
      ]
     },
     "metadata": {
      "needs_background": "light"
     },
     "output_type": "display_data"
    }
   ],
   "source": [
    "sns.heatmap(airline_df.corr(), annot=True, fmt=\".2f\");"
   ]
  },
  {
   "cell_type": "code",
   "execution_count": 86,
   "metadata": {
    "scrolled": true
   },
   "outputs": [
    {
     "data": {
      "text/plain": [
       "Text(0.5, 1.0, 'Top 10 ATA in 2019')"
      ]
     },
     "execution_count": 86,
     "metadata": {},
     "output_type": "execute_result"
    },
    {
     "data": {
      "image/png": "[encoded data removed]",
      "text/plain": [
       "<Figure size 432x288 with 1 Axes>"
      ]
     },
     "metadata": {
      "needs_background": "light"
     },
     "output_type": "display_data"
    }
   ],
   "source": [
    "df_ata_2d = airline_df.groupby('ata_2d') \\\n",
    "       .agg({'barcode':'count'}) \\\n",
    "       .rename(columns={'barcode':'faults'}) \\\n",
    "       .reset_index()\n",
    "df_ata_2d = df_ata_2d.sort_values('faults', ascending = False)\n",
    "df_ata_2d\n",
    "df_ata_2d[:10].plot(kind='bar', x='ata_2d')\n",
    "plt.title('Top 10 ATA in 2019')"
   ]
  },
  {
   "cell_type": "markdown",
   "metadata": {},
   "source": [
    "The ATA 25 which refers to equipment and furnishings had the most faults in 2019."
   ]
  },
  {
   "cell_type": "markdown",
   "metadata": {},
   "source": [
    "# Question 4: Does a Heavy Maintenance Check impacts on how many faults are open?"
   ]
  },
  {
   "cell_type": "markdown",
   "metadata": {},
   "source": [
    "Aircraft maintenance checks are periodic inspections that have to be done on all commercial and civil aircraft after a certain amount of time or usage. The C check is performed approximately every 20–24 months, or a specific number of actual flight hours (FH), or as defined by the manufacturer. This check puts the aircraft out of service for 1–2 weeks. The aircraft must not leave the maintenance site until it is completed. Does this Check, that should clean and make the aircraft better, is working?"
   ]
  },
  {
   "cell_type": "code",
   "execution_count": 88,
   "metadata": {},
   "outputs": [
    {
     "data": {
      "text/html": [
       "<div>\n",
       "<style scoped>\n",
       "    .dataframe tbody tr th:only-of-type {\n",
       "        vertical-align: middle;\n",
       "    }\n",
       "\n",
       "    .dataframe tbody tr th {\n",
       "        vertical-align: top;\n",
       "    }\n",
       "\n",
       "    .dataframe thead tr th {\n",
       "        text-align: left;\n",
       "    }\n",
       "\n",
       "    .dataframe thead tr:last-of-type th {\n",
       "        text-align: right;\n",
       "    }\n",
       "</style>\n",
       "<table border=\"1\" class=\"dataframe\">\n",
       "  <thead>\n",
       "    <tr>\n",
       "      <th></th>\n",
       "      <th colspan=\"4\" halign=\"left\">aircraft_years</th>\n",
       "      <th colspan=\"4\" halign=\"left\">ata_2d</th>\n",
       "      <th colspan=\"4\" halign=\"left\">ata_4d</th>\n",
       "      <th colspan=\"4\" halign=\"left\">ata_6d</th>\n",
       "    </tr>\n",
       "    <tr>\n",
       "      <th>fleet</th>\n",
       "      <th>A320FAM</th>\n",
       "      <th>A350</th>\n",
       "      <th>B767</th>\n",
       "      <th>B777</th>\n",
       "      <th>A320FAM</th>\n",
       "      <th>A350</th>\n",
       "      <th>B767</th>\n",
       "      <th>B777</th>\n",
       "      <th>A320FAM</th>\n",
       "      <th>A350</th>\n",
       "      <th>B767</th>\n",
       "      <th>B777</th>\n",
       "      <th>A320FAM</th>\n",
       "      <th>A350</th>\n",
       "      <th>B767</th>\n",
       "      <th>B777</th>\n",
       "    </tr>\n",
       "    <tr>\n",
       "      <th>check_c_in_lst_yr</th>\n",
       "      <th></th>\n",
       "      <th></th>\n",
       "      <th></th>\n",
       "      <th></th>\n",
       "      <th></th>\n",
       "      <th></th>\n",
       "      <th></th>\n",
       "      <th></th>\n",
       "      <th></th>\n",
       "      <th></th>\n",
       "      <th></th>\n",
       "      <th></th>\n",
       "      <th></th>\n",
       "      <th></th>\n",
       "      <th></th>\n",
       "      <th></th>\n",
       "    </tr>\n",
       "  </thead>\n",
       "  <tbody>\n",
       "    <tr>\n",
       "      <th>no</th>\n",
       "      <td>11.192653</td>\n",
       "      <td>3.964856</td>\n",
       "      <td>9.72490</td>\n",
       "      <td>9.386598</td>\n",
       "      <td>32.007071</td>\n",
       "      <td>34.463259</td>\n",
       "      <td>33.136546</td>\n",
       "      <td>34.603093</td>\n",
       "      <td>3233.324595</td>\n",
       "      <td>2794.115016</td>\n",
       "      <td>3343.664659</td>\n",
       "      <td>3488.716495</td>\n",
       "      <td>323334.063470</td>\n",
       "      <td>279414.079872</td>\n",
       "      <td>334366.963855</td>\n",
       "      <td>348874.005155</td>\n",
       "    </tr>\n",
       "    <tr>\n",
       "      <th>yes</th>\n",
       "      <td>11.690488</td>\n",
       "      <td>4.980080</td>\n",
       "      <td>9.68206</td>\n",
       "      <td>8.454006</td>\n",
       "      <td>31.862477</td>\n",
       "      <td>34.195219</td>\n",
       "      <td>32.007105</td>\n",
       "      <td>30.875371</td>\n",
       "      <td>3218.080926</td>\n",
       "      <td>2901.350598</td>\n",
       "      <td>3228.884547</td>\n",
       "      <td>3119.973294</td>\n",
       "      <td>321809.537591</td>\n",
       "      <td>290137.474104</td>\n",
       "      <td>322888.896980</td>\n",
       "      <td>311999.246291</td>\n",
       "    </tr>\n",
       "  </tbody>\n",
       "</table>\n",
       "</div>"
      ],
      "text/plain": [
       "                  aircraft_years                                  ata_2d  \\\n",
       "fleet                    A320FAM      A350     B767      B777    A320FAM   \n",
       "check_c_in_lst_yr                                                          \n",
       "no                     11.192653  3.964856  9.72490  9.386598  32.007071   \n",
       "yes                    11.690488  4.980080  9.68206  8.454006  31.862477   \n",
       "\n",
       "                                                         ata_4d               \\\n",
       "fleet                   A350       B767       B777      A320FAM         A350   \n",
       "check_c_in_lst_yr                                                              \n",
       "no                 34.463259  33.136546  34.603093  3233.324595  2794.115016   \n",
       "yes                34.195219  32.007105  30.875371  3218.080926  2901.350598   \n",
       "\n",
       "                                                    ata_6d                 \\\n",
       "fleet                     B767         B777        A320FAM           A350   \n",
       "check_c_in_lst_yr                                                           \n",
       "no                 3343.664659  3488.716495  323334.063470  279414.079872   \n",
       "yes                3228.884547  3119.973294  321809.537591  290137.474104   \n",
       "\n",
       "                                                 \n",
       "fleet                       B767           B777  \n",
       "check_c_in_lst_yr                                \n",
       "no                 334366.963855  348874.005155  \n",
       "yes                322888.896980  311999.246291  "
      ]
     },
     "execution_count": 88,
     "metadata": {},
     "output_type": "execute_result"
    }
   ],
   "source": [
    "df_check1 = airline_df.pivot_table(airline_df, index=['check_c_in_lst_yr'],columns=['fleet'])\n",
    "df_check1"
   ]
  },
  {
   "cell_type": "code",
   "execution_count": 89,
   "metadata": {},
   "outputs": [
    {
     "data": {
      "text/plain": [
       "check_c_in_lst_yr\n",
       "no     6803\n",
       "yes    7070\n",
       "Name: barcode, dtype: int64"
      ]
     },
     "execution_count": 89,
     "metadata": {},
     "output_type": "execute_result"
    }
   ],
   "source": [
    "check_c = airline_df.groupby(['check_c_in_lst_yr'])['barcode'].nunique()\n",
    "check_c"
   ]
  },
  {
   "cell_type": "code",
   "execution_count": 90,
   "metadata": {},
   "outputs": [
    {
     "data": {
      "text/plain": [
       "Text(0.5, 1.0, 'Check C')"
      ]
     },
     "execution_count": 90,
     "metadata": {},
     "output_type": "execute_result"
    },
    {
     "data": {
      "image/png": "[encoded data removed]",
      "text/plain": [
       "<Figure size 432x288 with 1 Axes>"
      ]
     },
     "metadata": {
      "needs_background": "light"
     },
     "output_type": "display_data"
    }
   ],
   "source": [
    "check_c.plot(kind='bar', x='check_c_in_lst_yr')\n",
    "plt.title('Check C')"
   ]
  },
  {
   "cell_type": "markdown",
   "metadata": {},
   "source": [
    "Around 51% of the faults wew opened in aircrafts that had a Check in the last year, so we can conclude that the Check is not very effective to prevent faults."
   ]
  },
  {
   "cell_type": "markdown",
   "metadata": {},
   "source": [
    "# Question 5: Where do the most faults are open?"
   ]
  },
  {
   "cell_type": "markdown",
   "metadata": {},
   "source": [
    "Many faults are simple tasks that can be made very quickly at the time that they are discovered, but to do that it’s necessary that the airport has the correct materials and tools.  \n",
    "Discovering the airports where most faults are opened it’s possible to initiate a plan to provide the resources to complete the tasks.\n"
   ]
  },
  {
   "cell_type": "code",
   "execution_count": 91,
   "metadata": {},
   "outputs": [
    {
     "data": {
      "text/html": [
       "<div>\n",
       "<style scoped>\n",
       "    .dataframe tbody tr th:only-of-type {\n",
       "        vertical-align: middle;\n",
       "    }\n",
       "\n",
       "    .dataframe tbody tr th {\n",
       "        vertical-align: top;\n",
       "    }\n",
       "\n",
       "    .dataframe thead tr th {\n",
       "        text-align: left;\n",
       "    }\n",
       "\n",
       "    .dataframe thead tr:last-of-type th {\n",
       "        text-align: right;\n",
       "    }\n",
       "</style>\n",
       "<table border=\"1\" class=\"dataframe\">\n",
       "  <thead>\n",
       "    <tr>\n",
       "      <th></th>\n",
       "      <th colspan=\"4\" halign=\"left\">aircraft_years</th>\n",
       "      <th colspan=\"4\" halign=\"left\">ata_2d</th>\n",
       "      <th colspan=\"4\" halign=\"left\">ata_4d</th>\n",
       "      <th colspan=\"4\" halign=\"left\">ata_6d</th>\n",
       "    </tr>\n",
       "    <tr>\n",
       "      <th>fleet</th>\n",
       "      <th>A320FAM</th>\n",
       "      <th>A350</th>\n",
       "      <th>B767</th>\n",
       "      <th>B777</th>\n",
       "      <th>A320FAM</th>\n",
       "      <th>A350</th>\n",
       "      <th>B767</th>\n",
       "      <th>B777</th>\n",
       "      <th>A320FAM</th>\n",
       "      <th>A350</th>\n",
       "      <th>B767</th>\n",
       "      <th>B777</th>\n",
       "      <th>A320FAM</th>\n",
       "      <th>A350</th>\n",
       "      <th>B767</th>\n",
       "      <th>B777</th>\n",
       "    </tr>\n",
       "    <tr>\n",
       "      <th>flight_arrival_airport</th>\n",
       "      <th></th>\n",
       "      <th></th>\n",
       "      <th></th>\n",
       "      <th></th>\n",
       "      <th></th>\n",
       "      <th></th>\n",
       "      <th></th>\n",
       "      <th></th>\n",
       "      <th></th>\n",
       "      <th></th>\n",
       "      <th></th>\n",
       "      <th></th>\n",
       "      <th></th>\n",
       "      <th></th>\n",
       "      <th></th>\n",
       "      <th></th>\n",
       "    </tr>\n",
       "  </thead>\n",
       "  <tbody>\n",
       "    <tr>\n",
       "      <th>AJU</th>\n",
       "      <td>10.238095</td>\n",
       "      <td>NaN</td>\n",
       "      <td>NaN</td>\n",
       "      <td>NaN</td>\n",
       "      <td>30.642857</td>\n",
       "      <td>NaN</td>\n",
       "      <td>NaN</td>\n",
       "      <td>NaN</td>\n",
       "      <td>3103.285714</td>\n",
       "      <td>NaN</td>\n",
       "      <td>NaN</td>\n",
       "      <td>NaN</td>\n",
       "      <td>310330.642857</td>\n",
       "      <td>NaN</td>\n",
       "      <td>NaN</td>\n",
       "      <td>NaN</td>\n",
       "    </tr>\n",
       "    <tr>\n",
       "      <th>ANF</th>\n",
       "      <td>0.000000</td>\n",
       "      <td>NaN</td>\n",
       "      <td>NaN</td>\n",
       "      <td>NaN</td>\n",
       "      <td>24.000000</td>\n",
       "      <td>NaN</td>\n",
       "      <td>NaN</td>\n",
       "      <td>NaN</td>\n",
       "      <td>2423.000000</td>\n",
       "      <td>NaN</td>\n",
       "      <td>NaN</td>\n",
       "      <td>NaN</td>\n",
       "      <td>242300.000000</td>\n",
       "      <td>NaN</td>\n",
       "      <td>NaN</td>\n",
       "      <td>NaN</td>\n",
       "    </tr>\n",
       "    <tr>\n",
       "      <th>ASU</th>\n",
       "      <td>15.918033</td>\n",
       "      <td>NaN</td>\n",
       "      <td>NaN</td>\n",
       "      <td>NaN</td>\n",
       "      <td>31.680328</td>\n",
       "      <td>NaN</td>\n",
       "      <td>NaN</td>\n",
       "      <td>NaN</td>\n",
       "      <td>3202.032787</td>\n",
       "      <td>NaN</td>\n",
       "      <td>NaN</td>\n",
       "      <td>NaN</td>\n",
       "      <td>320203.877049</td>\n",
       "      <td>NaN</td>\n",
       "      <td>NaN</td>\n",
       "      <td>NaN</td>\n",
       "    </tr>\n",
       "    <tr>\n",
       "      <th>AUH</th>\n",
       "      <td>NaN</td>\n",
       "      <td>NaN</td>\n",
       "      <td>NaN</td>\n",
       "      <td>11.0</td>\n",
       "      <td>NaN</td>\n",
       "      <td>NaN</td>\n",
       "      <td>NaN</td>\n",
       "      <td>52.0</td>\n",
       "      <td>NaN</td>\n",
       "      <td>NaN</td>\n",
       "      <td>NaN</td>\n",
       "      <td>5271.0</td>\n",
       "      <td>NaN</td>\n",
       "      <td>NaN</td>\n",
       "      <td>NaN</td>\n",
       "      <td>527100.0</td>\n",
       "    </tr>\n",
       "    <tr>\n",
       "      <th>BCN</th>\n",
       "      <td>NaN</td>\n",
       "      <td>4.44186</td>\n",
       "      <td>9.96</td>\n",
       "      <td>NaN</td>\n",
       "      <td>NaN</td>\n",
       "      <td>31.906977</td>\n",
       "      <td>28.64</td>\n",
       "      <td>NaN</td>\n",
       "      <td>NaN</td>\n",
       "      <td>2086.093023</td>\n",
       "      <td>2896.38</td>\n",
       "      <td>NaN</td>\n",
       "      <td>NaN</td>\n",
       "      <td>208609.302326</td>\n",
       "      <td>289638.02</td>\n",
       "      <td>NaN</td>\n",
       "    </tr>\n",
       "    <tr>\n",
       "      <th>...</th>\n",
       "      <td>...</td>\n",
       "      <td>...</td>\n",
       "      <td>...</td>\n",
       "      <td>...</td>\n",
       "      <td>...</td>\n",
       "      <td>...</td>\n",
       "      <td>...</td>\n",
       "      <td>...</td>\n",
       "      <td>...</td>\n",
       "      <td>...</td>\n",
       "      <td>...</td>\n",
       "      <td>...</td>\n",
       "      <td>...</td>\n",
       "      <td>...</td>\n",
       "      <td>...</td>\n",
       "      <td>...</td>\n",
       "    </tr>\n",
       "    <tr>\n",
       "      <th>UDI</th>\n",
       "      <td>13.950000</td>\n",
       "      <td>NaN</td>\n",
       "      <td>NaN</td>\n",
       "      <td>NaN</td>\n",
       "      <td>29.975000</td>\n",
       "      <td>NaN</td>\n",
       "      <td>NaN</td>\n",
       "      <td>NaN</td>\n",
       "      <td>3036.450000</td>\n",
       "      <td>NaN</td>\n",
       "      <td>NaN</td>\n",
       "      <td>NaN</td>\n",
       "      <td>303646.350000</td>\n",
       "      <td>NaN</td>\n",
       "      <td>NaN</td>\n",
       "      <td>NaN</td>\n",
       "    </tr>\n",
       "    <tr>\n",
       "      <th>UNA</th>\n",
       "      <td>15.666667</td>\n",
       "      <td>NaN</td>\n",
       "      <td>NaN</td>\n",
       "      <td>NaN</td>\n",
       "      <td>25.000000</td>\n",
       "      <td>NaN</td>\n",
       "      <td>NaN</td>\n",
       "      <td>NaN</td>\n",
       "      <td>2542.000000</td>\n",
       "      <td>NaN</td>\n",
       "      <td>NaN</td>\n",
       "      <td>NaN</td>\n",
       "      <td>254200.000000</td>\n",
       "      <td>NaN</td>\n",
       "      <td>NaN</td>\n",
       "      <td>NaN</td>\n",
       "    </tr>\n",
       "    <tr>\n",
       "      <th>VCP</th>\n",
       "      <td>10.066667</td>\n",
       "      <td>NaN</td>\n",
       "      <td>NaN</td>\n",
       "      <td>NaN</td>\n",
       "      <td>34.177778</td>\n",
       "      <td>NaN</td>\n",
       "      <td>NaN</td>\n",
       "      <td>NaN</td>\n",
       "      <td>3454.555556</td>\n",
       "      <td>NaN</td>\n",
       "      <td>NaN</td>\n",
       "      <td>NaN</td>\n",
       "      <td>345460.177778</td>\n",
       "      <td>NaN</td>\n",
       "      <td>NaN</td>\n",
       "      <td>NaN</td>\n",
       "    </tr>\n",
       "    <tr>\n",
       "      <th>VIX</th>\n",
       "      <td>13.195122</td>\n",
       "      <td>NaN</td>\n",
       "      <td>NaN</td>\n",
       "      <td>NaN</td>\n",
       "      <td>30.164634</td>\n",
       "      <td>NaN</td>\n",
       "      <td>NaN</td>\n",
       "      <td>NaN</td>\n",
       "      <td>3049.975610</td>\n",
       "      <td>NaN</td>\n",
       "      <td>NaN</td>\n",
       "      <td>NaN</td>\n",
       "      <td>304999.042683</td>\n",
       "      <td>NaN</td>\n",
       "      <td>NaN</td>\n",
       "      <td>NaN</td>\n",
       "    </tr>\n",
       "    <tr>\n",
       "      <th>VVI</th>\n",
       "      <td>17.250000</td>\n",
       "      <td>NaN</td>\n",
       "      <td>NaN</td>\n",
       "      <td>NaN</td>\n",
       "      <td>41.000000</td>\n",
       "      <td>NaN</td>\n",
       "      <td>NaN</td>\n",
       "      <td>NaN</td>\n",
       "      <td>4131.500000</td>\n",
       "      <td>NaN</td>\n",
       "      <td>NaN</td>\n",
       "      <td>NaN</td>\n",
       "      <td>413150.000000</td>\n",
       "      <td>NaN</td>\n",
       "      <td>NaN</td>\n",
       "      <td>NaN</td>\n",
       "    </tr>\n",
       "  </tbody>\n",
       "</table>\n",
       "<p>78 rows × 16 columns</p>\n",
       "</div>"
      ],
      "text/plain": [
       "                       aircraft_years                          ata_2d  \\\n",
       "fleet                         A320FAM     A350  B767  B777    A320FAM   \n",
       "flight_arrival_airport                                                  \n",
       "AJU                         10.238095      NaN   NaN   NaN  30.642857   \n",
       "ANF                          0.000000      NaN   NaN   NaN  24.000000   \n",
       "ASU                         15.918033      NaN   NaN   NaN  31.680328   \n",
       "AUH                               NaN      NaN   NaN  11.0        NaN   \n",
       "BCN                               NaN  4.44186  9.96   NaN        NaN   \n",
       "...                               ...      ...   ...   ...        ...   \n",
       "UDI                         13.950000      NaN   NaN   NaN  29.975000   \n",
       "UNA                         15.666667      NaN   NaN   NaN  25.000000   \n",
       "VCP                         10.066667      NaN   NaN   NaN  34.177778   \n",
       "VIX                         13.195122      NaN   NaN   NaN  30.164634   \n",
       "VVI                         17.250000      NaN   NaN   NaN  41.000000   \n",
       "\n",
       "                                                     ata_4d               \\\n",
       "fleet                        A350   B767  B777      A320FAM         A350   \n",
       "flight_arrival_airport                                                     \n",
       "AJU                           NaN    NaN   NaN  3103.285714          NaN   \n",
       "ANF                           NaN    NaN   NaN  2423.000000          NaN   \n",
       "ASU                           NaN    NaN   NaN  3202.032787          NaN   \n",
       "AUH                           NaN    NaN  52.0          NaN          NaN   \n",
       "BCN                     31.906977  28.64   NaN          NaN  2086.093023   \n",
       "...                           ...    ...   ...          ...          ...   \n",
       "UDI                           NaN    NaN   NaN  3036.450000          NaN   \n",
       "UNA                           NaN    NaN   NaN  2542.000000          NaN   \n",
       "VCP                           NaN    NaN   NaN  3454.555556          NaN   \n",
       "VIX                           NaN    NaN   NaN  3049.975610          NaN   \n",
       "VVI                           NaN    NaN   NaN  4131.500000          NaN   \n",
       "\n",
       "                                                ata_6d                 \\\n",
       "fleet                      B767    B777        A320FAM           A350   \n",
       "flight_arrival_airport                                                  \n",
       "AJU                         NaN     NaN  310330.642857            NaN   \n",
       "ANF                         NaN     NaN  242300.000000            NaN   \n",
       "ASU                         NaN     NaN  320203.877049            NaN   \n",
       "AUH                         NaN  5271.0            NaN            NaN   \n",
       "BCN                     2896.38     NaN            NaN  208609.302326   \n",
       "...                         ...     ...            ...            ...   \n",
       "UDI                         NaN     NaN  303646.350000            NaN   \n",
       "UNA                         NaN     NaN  254200.000000            NaN   \n",
       "VCP                         NaN     NaN  345460.177778            NaN   \n",
       "VIX                         NaN     NaN  304999.042683            NaN   \n",
       "VVI                         NaN     NaN  413150.000000            NaN   \n",
       "\n",
       "                                             \n",
       "fleet                        B767      B777  \n",
       "flight_arrival_airport                       \n",
       "AJU                           NaN       NaN  \n",
       "ANF                           NaN       NaN  \n",
       "ASU                           NaN       NaN  \n",
       "AUH                           NaN  527100.0  \n",
       "BCN                     289638.02       NaN  \n",
       "...                           ...       ...  \n",
       "UDI                           NaN       NaN  \n",
       "UNA                           NaN       NaN  \n",
       "VCP                           NaN       NaN  \n",
       "VIX                           NaN       NaN  \n",
       "VVI                           NaN       NaN  \n",
       "\n",
       "[78 rows x 16 columns]"
      ]
     },
     "execution_count": 91,
     "metadata": {},
     "output_type": "execute_result"
    }
   ],
   "source": [
    "airline_df.pivot_table(index = 'flight_arrival_airport', columns = 'fleet')"
   ]
  },
  {
   "cell_type": "code",
   "execution_count": 92,
   "metadata": {},
   "outputs": [
    {
     "data": {
      "text/plain": [
       "Text(0.5, 1.0, 'Top 20 Airports')"
      ]
     },
     "execution_count": 92,
     "metadata": {},
     "output_type": "execute_result"
    },
    {
     "data": {
      "image/png": "[encoded data removed]",
      "text/plain": [
       "<Figure size 432x288 with 1 Axes>"
      ]
     },
     "metadata": {
      "needs_background": "light"
     },
     "output_type": "display_data"
    }
   ],
   "source": [
    "df_airport = airline_df.groupby('flight_arrival_airport') \\\n",
    "       .agg({'barcode':'count'}) \\\n",
    "       .rename(columns={'barcode':'faults'}) \\\n",
    "       .reset_index()\n",
    "df_airport = df_airport.sort_values('faults', ascending = False)\n",
    "\n",
    "df_airport[:20].plot(kind='bar', x='flight_arrival_airport')\n",
    "plt.title('Top 20 Airports')"
   ]
  },
  {
   "cell_type": "code",
   "execution_count": 93,
   "metadata": {},
   "outputs": [
    {
     "data": {
      "text/html": [
       "<div>\n",
       "<style scoped>\n",
       "    .dataframe tbody tr th:only-of-type {\n",
       "        vertical-align: middle;\n",
       "    }\n",
       "\n",
       "    .dataframe tbody tr th {\n",
       "        vertical-align: top;\n",
       "    }\n",
       "\n",
       "    .dataframe thead th {\n",
       "        text-align: right;\n",
       "    }\n",
       "</style>\n",
       "<table border=\"1\" class=\"dataframe\">\n",
       "  <thead>\n",
       "    <tr style=\"text-align: right;\">\n",
       "      <th></th>\n",
       "      <th>flight_arrival_airport</th>\n",
       "      <th>faults</th>\n",
       "    </tr>\n",
       "  </thead>\n",
       "  <tbody>\n",
       "    <tr>\n",
       "      <th>26</th>\n",
       "      <td>GRU</td>\n",
       "      <td>3168</td>\n",
       "    </tr>\n",
       "    <tr>\n",
       "      <th>14</th>\n",
       "      <td>CGH</td>\n",
       "      <td>1568</td>\n",
       "    </tr>\n",
       "    <tr>\n",
       "      <th>10</th>\n",
       "      <td>BSB</td>\n",
       "      <td>1559</td>\n",
       "    </tr>\n",
       "    <tr>\n",
       "      <th>66</th>\n",
       "      <td>SDU</td>\n",
       "      <td>455</td>\n",
       "    </tr>\n",
       "    <tr>\n",
       "      <th>23</th>\n",
       "      <td>FOR</td>\n",
       "      <td>432</td>\n",
       "    </tr>\n",
       "  </tbody>\n",
       "</table>\n",
       "</div>"
      ],
      "text/plain": [
       "   flight_arrival_airport  faults\n",
       "26                    GRU    3168\n",
       "14                    CGH    1568\n",
       "10                    BSB    1559\n",
       "66                    SDU     455\n",
       "23                    FOR     432"
      ]
     },
     "execution_count": 93,
     "metadata": {},
     "output_type": "execute_result"
    }
   ],
   "source": [
    "df_airport.head()"
   ]
  },
  {
   "cell_type": "code",
   "execution_count": 94,
   "metadata": {},
   "outputs": [
    {
     "name": "stdout",
     "output_type": "stream",
     "text": [
      "flight_arrival_airport     object\n",
      "faults                    float64\n",
      "dtype: object\n"
     ]
    }
   ],
   "source": [
    "df_airport['faults'] = df_airport['faults'].astype(float)\n",
    "print (df_airport.dtypes)"
   ]
  },
  {
   "cell_type": "code",
   "execution_count": 95,
   "metadata": {},
   "outputs": [],
   "source": [
    "total = df_airport.sum()['faults']"
   ]
  },
  {
   "cell_type": "markdown",
   "metadata": {},
   "source": [
    "Around 45% of the faults were opened in GRU, CGH and BSB, that makes sense since they are the 3 main HUB's in Brazil."
   ]
  },
  {
   "cell_type": "markdown",
   "metadata": {},
   "source": [
    "As per the Business questions, \n",
    "\n",
    "Which fleet has more faults per aircrafts?\n",
    "    From the data visualization, its A320 family with Boeing 777 being the lowest. However, further hypothesis testing need to be done to assert or reject this decision.\n",
    " \n",
    "How the aircraft age relates to the process of opening a fault?\n",
    "    All the aircrafts with less than 1 year ranked in the bottom of the list, therefore newer aircrafts didn't presented as many faults as older aircrafts. There are exceptions, for example PT-XPD that has only 5 years but ranked fifth. But in general as older the aircraft gets the more faults it will have. Further Hypothesis testing needed to assert this statement.\n",
    "    \n",
    "Which ATA has more faults?\n",
    "    From the Data visualization, it is evident that ATA chapter 25, which is Equipment and furnishings have most defect raised in the given year.\n",
    "\n",
    "Heavy Maintenance Check impacts on how many faults are open?\n",
    "    In fact 51% of the faults wew opened in aircrafts that had a Check in the last year, so we can conclude that the Check is not very effective to prevent faults.\n",
    "    \n",
    "Where most faults were opened?\n",
    "    From the data, Around 45% of the faults were opened in GRU, CGH and BSB, that makes sense since they are the 3 main HUB's in Brazil."
   ]
  }
 ],
 "metadata": {
  "kernelspec": {
   "display_name": "Python 3",
   "language": "python",
   "name": "python3"
  },
  "language_info": {
   "codemirror_mode": {
    "name": "ipython",
    "version": 3
   },
   "file_extension": ".py",
   "mimetype": "text/x-python",
   "name": "python",
   "nbconvert_exporter": "python",
   "pygments_lexer": "ipython3",
   "version": "3.8.8"
  }
 },
 "nbformat": 4,
 "nbformat_minor": 4
}
